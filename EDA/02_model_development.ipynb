{
 "cells": [
  {
   "cell_type": "markdown",
   "id": "5abf8939",
   "metadata": {},
   "source": [
    "# Bank Customer Churn Prediction - Clean Model Development\n",
    "\n",
    "## 🎯 Project Overview\n",
    "\n",
    "This is a **clean version** of the model development notebook that addresses:\n",
    "1. **Data leakage issues** - Only using features available BEFORE churn\n",
    "2. **Simplified metrics** - Removed problematic precision@10% calculation  \n",
    "3. **Realistic performance** - Expect AUC scores in 0.70-0.85 range\n",
    "\n",
    "### 📊 Business Context\n",
    "- **Goal**: Predict customer churn with realistic performance (AUC > 0.75)\n",
    "- **Focus**: Clean, interpretable models without data leakage\n",
    "- **Metrics**: AUC-ROC, Precision, Recall, F1-Score"
   ]
  },
  {
   "cell_type": "code",
   "execution_count": null,
   "id": "7cf6611f",
   "metadata": {},
   "outputs": [
    {
     "ename": "",
     "evalue": "",
     "output_type": "error",
     "traceback": [
      "\u001b[1;31mRunning cells with 'venv (Python 3.12.1)' requires the ipykernel package.\n",
      "\u001b[1;31mInstall 'ipykernel' into the Python environment. \n",
      "\u001b[1;31mCommand: '/workspaces/Bank-Customer-Churn-Prediction---MLOps-End-to-End-Project/venv/bin/python -m pip install ipykernel -U --force-reinstall'"
     ]
    }
   ],
   "source": [
    "# Import required libraries\n",
    "import pandas as pd\n",
    "import numpy as np\n",
    "import matplotlib.pyplot as plt\n",
    "import seaborn as sns\n",
    "import warnings\n",
    "from datetime import datetime\n",
    "\n",
    "# Machine Learning\n",
    "from sklearn.model_selection import train_test_split, cross_val_score\n",
    "from sklearn.preprocessing import StandardScaler, OneHotEncoder\n",
    "from sklearn.compose import ColumnTransformer\n",
    "from sklearn.metrics import (\n",
    "    classification_report, confusion_matrix, roc_auc_score, \n",
    "    roc_curve, precision_score, recall_score, f1_score, accuracy_score\n",
    ")\n",
    "\n",
    "# Models\n",
    "from sklearn.linear_model import LogisticRegression\n",
    "from sklearn.ensemble import RandomForestClassifier\n",
    "from sklearn.naive_bayes import GaussianNB\n",
    "\n",
    "# MLflow for experiment tracking\n",
    "import mlflow\n",
    "import mlflow.sklearn\n",
    "from mlflow.models.signature import infer_signature\n",
    "\n",
    "# Configuration\n",
    "warnings.filterwarnings('ignore')\n",
    "plt.style.use('seaborn-v0_8')\n",
    "RANDOM_STATE = 42\n",
    "np.random.seed(RANDOM_STATE)\n",
    "\n",
    "print(\"📚 Libraries imported successfully!\")\n",
    "print(f\"🎲 Random state: {RANDOM_STATE}\")\n",
    "print(f\"📅 Date: {datetime.now().strftime('%Y-%m-%d %H:%M:%S')}\")\n"
   ]
  }
 ],
 "metadata": {
  "kernelspec": {
   "display_name": "venv",
   "language": "python",
   "name": "python3"
  },
  "language_info": {
   "name": "python",
   "version": "3.12.1"
  }
 },
 "nbformat": 4,
 "nbformat_minor": 5
}
